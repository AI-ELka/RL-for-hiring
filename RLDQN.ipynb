{
 "cells": [
  {
   "cell_type": "code",
   "execution_count": 1,
   "metadata": {},
   "outputs": [],
   "source": [
    "\n",
    "import gym\n",
    "import numpy as np\n",
    "\n",
    "class RecruitmentEnv(gym.Env):\n",
    "    def __init__(self):\n",
    "        super(RecruitmentEnv, self).__init__()\n",
    "\n",
    "        self.action_space = gym.spaces.Discrete(2)  # Advance or Reject\n",
    "        self.observation_space = gym.spaces.Dict({\n",
    "            'stage': gym.spaces.Discrete(4),  # Stage of recruitment\n",
    "            'performance': gym.spaces.Box(low=0, high=1, shape=(4,))  # Candidate performance\n",
    "        })\n",
    "\n",
    "        self.cand=np.random.uniform(size=4)\n",
    "        self.state={'stage': 0, 'performance': self.cand}\n",
    "        self.info={}\n",
    "        self.done=False\n",
    "\n",
    "\n",
    "\n",
    "\n",
    "    def step(self, action):\n",
    "        good_threshold = 0.7\n",
    "        # bad_threshold = 0.3 #i can add probabilities between the 2\n",
    "        time_penalty = 40\n",
    "        # Get the current candidate's score\n",
    "        rew=0\n",
    "        stage= self.state['stage']\n",
    "        performance = self.state['performance']\n",
    "        if action == 0:  # Reject the candidate\n",
    "            if performance[stage] > good_threshold: #good candidate\n",
    "                rew= -700 # Penalize for rejecting a good candidate\n",
    "            else:\n",
    "                rew= 800   # Reward for rejecting a bad candidate\n",
    "            # Reset state?self.state=(0,np.random.uniform(size=4))\n",
    "            self.done=True\n",
    "            \n",
    "        else:  # Proceed to the next stage\n",
    "            if (stage == 3) & (performance[stage] > good_threshold ):\n",
    "                rew= 500               # Highly reward for successfully extending an offer\n",
    "                \n",
    "                self.done=True\n",
    "            elif (stage == 3) & (performance[stage] < good_threshold ):\n",
    "                rew=300\n",
    "                self.done=True\n",
    "            elif performance[stage] > good_threshold:\n",
    "                rew= 1050                # Reward for moving on with a good candidate\n",
    "                self.state['stage']+=1\n",
    "            else:\n",
    "                rew= -600 - time_penalty * (1+stage)  # Penalize for moving on with a bad candidate\n",
    "                self.state['stage']+=1\n",
    "            rew+=2*(performance[stage]*1000-300)\n",
    "        return self.state, rew, self.done, {}\n",
    "    \n",
    "    def reset(self):\n",
    "        self.cand=np.random.uniform(size=4)\n",
    "        self.state={'stage': 0, 'performance': self.cand}\n",
    "        self.done=False\n",
    "        return self.state \n",
    "\n",
    "\n",
    "    def render(self):\n",
    "        # Render the environment to the screen\n",
    "        print(f'Step: {self.state[0]}, Scores: {self.state[1]}')\n"
   ]
  },
  {
   "cell_type": "code",
   "execution_count": 157,
   "metadata": {},
   "outputs": [
    {
     "data": {
      "text/plain": [
       "<stable_baselines3.dqn.dqn.DQN at 0x7fc66abbc910>"
      ]
     },
     "execution_count": 157,
     "metadata": {},
     "output_type": "execute_result"
    }
   ],
   "source": [
    "from stable_baselines3 import DQN\n",
    "\n",
    "\n",
    "env=RecruitmentEnv()\n",
    "\n",
    "\n",
    "model = DQN(\"MultiInputPolicy\", env)\n",
    "\n",
    "#Train\n",
    "model.learn(total_timesteps=100000)\n"
   ]
  },
  {
   "cell_type": "code",
   "execution_count": 241,
   "metadata": {},
   "outputs": [
    {
     "name": "stdout",
     "output_type": "stream",
     "text": [
      "{'stage': 0, 'performance': array([0.04582057, 0.51589669, 0.45747965, 0.36368137])}\n",
      "0\n"
     ]
    }
   ],
   "source": [
    "\n",
    "x = np.random.uniform(size=4)\n",
    "\n",
    "step=0\n",
    "obs={'stage': step, 'performance': x}\n",
    "done=False\n",
    "\n",
    "while step<5:\n",
    "    print(obs)\n",
    "    action,_state=model.predict(obs)\n",
    "    if action==0:break\n",
    "    step+=1\n",
    "    obs['stage']+=1\n",
    "    \n",
    "print(step) # Rejection step or Offer\n"
   ]
  }
 ],
 "metadata": {
  "kernelspec": {
   "display_name": "Python 3",
   "language": "python",
   "name": "python3"
  },
  "language_info": {
   "codemirror_mode": {
    "name": "ipython",
    "version": 3
   },
   "file_extension": ".py",
   "mimetype": "text/x-python",
   "name": "python",
   "nbconvert_exporter": "python",
   "pygments_lexer": "ipython3",
   "version": "3.9.18"
  }
 },
 "nbformat": 4,
 "nbformat_minor": 2
}
